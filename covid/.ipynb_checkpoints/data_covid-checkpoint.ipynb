{
 "cells": [
  {
   "cell_type": "markdown",
   "id": "fdbbac2b",
   "metadata": {},
   "source": [
    "# BÁO CÁO DỮ LIỆU VỀ TÌNH HÌNH DỊCH BỆNH"
   ]
  },
  {
   "cell_type": "markdown",
   "id": "fa752783",
   "metadata": {},
   "source": [
    "### Mục tiêu\n",
    "\n",
    "#### - Đánh giá và so sánh số ca nhiễm, số ca tử vong, số ca hồi phục ở các quốc gia và vùng lãnh thổ khác nhau.\n",
    "#### - Theo dõi sự biến động của các chỉ số theo thời gian để đánh giá tình hình dịch bệnh.\n",
    "#### - Khám phá sự phân bố địa lý của các trường hợp nhiễm, tử vong, và hồi phục.\n",
    "#### - So sánh dữ liệu giữa các quốc gia và vùng lãnh thổ để hiểu sự chênh lệch địa lý.\n",
    "\n"
   ]
  },
  {
   "cell_type": "code",
   "execution_count": 1,
   "id": "9e426e76",
   "metadata": {
    "scrolled": false
   },
   "outputs": [
    {
     "data": {
      "text/html": [
       "<div>\n",
       "<style scoped>\n",
       "    .dataframe tbody tr th:only-of-type {\n",
       "        vertical-align: middle;\n",
       "    }\n",
       "\n",
       "    .dataframe tbody tr th {\n",
       "        vertical-align: top;\n",
       "    }\n",
       "\n",
       "    .dataframe thead th {\n",
       "        text-align: right;\n",
       "    }\n",
       "</style>\n",
       "<table border=\"1\" class=\"dataframe\">\n",
       "  <thead>\n",
       "    <tr style=\"text-align: right;\">\n",
       "      <th></th>\n",
       "      <th>FIPS</th>\n",
       "      <th>Admin2</th>\n",
       "      <th>Province_State</th>\n",
       "      <th>Country_Region</th>\n",
       "      <th>Last_Update</th>\n",
       "      <th>Lat</th>\n",
       "      <th>Long_</th>\n",
       "      <th>Confirmed</th>\n",
       "      <th>Deaths</th>\n",
       "      <th>Recovered</th>\n",
       "      <th>Active</th>\n",
       "      <th>Combined_Key</th>\n",
       "      <th>Incident_Rate</th>\n",
       "      <th>Case_Fatality_Ratio</th>\n",
       "    </tr>\n",
       "  </thead>\n",
       "  <tbody>\n",
       "    <tr>\n",
       "      <th>0</th>\n",
       "      <td>NaN</td>\n",
       "      <td>NaN</td>\n",
       "      <td>NaN</td>\n",
       "      <td>Afghanistan</td>\n",
       "      <td>2021-01-02 05:22:33</td>\n",
       "      <td>33.93911</td>\n",
       "      <td>67.709953</td>\n",
       "      <td>52513</td>\n",
       "      <td>2201</td>\n",
       "      <td>41727</td>\n",
       "      <td>8585</td>\n",
       "      <td>Afghanistan</td>\n",
       "      <td>134.896578</td>\n",
       "      <td>4.191343</td>\n",
       "    </tr>\n",
       "    <tr>\n",
       "      <th>1</th>\n",
       "      <td>NaN</td>\n",
       "      <td>NaN</td>\n",
       "      <td>NaN</td>\n",
       "      <td>Albania</td>\n",
       "      <td>2021-01-02 05:22:33</td>\n",
       "      <td>41.15330</td>\n",
       "      <td>20.168300</td>\n",
       "      <td>58316</td>\n",
       "      <td>1181</td>\n",
       "      <td>33634</td>\n",
       "      <td>23501</td>\n",
       "      <td>Albania</td>\n",
       "      <td>2026.409062</td>\n",
       "      <td>2.025173</td>\n",
       "    </tr>\n",
       "    <tr>\n",
       "      <th>2</th>\n",
       "      <td>NaN</td>\n",
       "      <td>NaN</td>\n",
       "      <td>NaN</td>\n",
       "      <td>Algeria</td>\n",
       "      <td>2021-01-02 05:22:33</td>\n",
       "      <td>28.03390</td>\n",
       "      <td>1.659600</td>\n",
       "      <td>99897</td>\n",
       "      <td>2762</td>\n",
       "      <td>67395</td>\n",
       "      <td>29740</td>\n",
       "      <td>Algeria</td>\n",
       "      <td>227.809861</td>\n",
       "      <td>2.764848</td>\n",
       "    </tr>\n",
       "    <tr>\n",
       "      <th>3</th>\n",
       "      <td>NaN</td>\n",
       "      <td>NaN</td>\n",
       "      <td>NaN</td>\n",
       "      <td>Andorra</td>\n",
       "      <td>2021-01-02 05:22:33</td>\n",
       "      <td>42.50630</td>\n",
       "      <td>1.521800</td>\n",
       "      <td>8117</td>\n",
       "      <td>84</td>\n",
       "      <td>7463</td>\n",
       "      <td>570</td>\n",
       "      <td>Andorra</td>\n",
       "      <td>10505.403482</td>\n",
       "      <td>1.034865</td>\n",
       "    </tr>\n",
       "    <tr>\n",
       "      <th>4</th>\n",
       "      <td>NaN</td>\n",
       "      <td>NaN</td>\n",
       "      <td>NaN</td>\n",
       "      <td>Angola</td>\n",
       "      <td>2021-01-02 05:22:33</td>\n",
       "      <td>-11.20270</td>\n",
       "      <td>17.873900</td>\n",
       "      <td>17568</td>\n",
       "      <td>405</td>\n",
       "      <td>11146</td>\n",
       "      <td>6017</td>\n",
       "      <td>Angola</td>\n",
       "      <td>53.452981</td>\n",
       "      <td>2.305328</td>\n",
       "    </tr>\n",
       "  </tbody>\n",
       "</table>\n",
       "</div>"
      ],
      "text/plain": [
       "   FIPS Admin2 Province_State Country_Region          Last_Update       Lat  \\\n",
       "0   NaN    NaN            NaN    Afghanistan  2021-01-02 05:22:33  33.93911   \n",
       "1   NaN    NaN            NaN        Albania  2021-01-02 05:22:33  41.15330   \n",
       "2   NaN    NaN            NaN        Algeria  2021-01-02 05:22:33  28.03390   \n",
       "3   NaN    NaN            NaN        Andorra  2021-01-02 05:22:33  42.50630   \n",
       "4   NaN    NaN            NaN         Angola  2021-01-02 05:22:33 -11.20270   \n",
       "\n",
       "       Long_  Confirmed  Deaths  Recovered  Active Combined_Key  \\\n",
       "0  67.709953      52513    2201      41727    8585  Afghanistan   \n",
       "1  20.168300      58316    1181      33634   23501      Albania   \n",
       "2   1.659600      99897    2762      67395   29740      Algeria   \n",
       "3   1.521800       8117      84       7463     570      Andorra   \n",
       "4  17.873900      17568     405      11146    6017       Angola   \n",
       "\n",
       "   Incident_Rate  Case_Fatality_Ratio  \n",
       "0     134.896578             4.191343  \n",
       "1    2026.409062             2.025173  \n",
       "2     227.809861             2.764848  \n",
       "3   10505.403482             1.034865  \n",
       "4      53.452981             2.305328  "
      ]
     },
     "execution_count": 1,
     "metadata": {},
     "output_type": "execute_result"
    }
   ],
   "source": [
    "# Import thư viện\n",
    "import pandas as pd\n",
    "import matplotlib.pyplot as plt\n",
    "import seaborn as sns\n",
    "\n",
    "# Đọc dữ liệu từ DataFrame\n",
    "df = pd.read_csv('data.csv')\n",
    "\n",
    "# Hiển thị 5 dòng đầu tiên của dữ liệu\n",
    "df.head()"
   ]
  },
  {
   "cell_type": "code",
   "execution_count": 2,
   "id": "9d1a3eb4",
   "metadata": {
    "scrolled": true
   },
   "outputs": [
    {
     "name": "stdout",
     "output_type": "stream",
     "text": [
      "<class 'pandas.core.frame.DataFrame'>\n",
      "RangeIndex: 4011 entries, 0 to 4010\n",
      "Data columns (total 14 columns):\n",
      " #   Column               Non-Null Count  Dtype  \n",
      "---  ------               --------------  -----  \n",
      " 0   FIPS                 3265 non-null   float64\n",
      " 1   Admin2               3270 non-null   object \n",
      " 2   Province_State       3833 non-null   object \n",
      " 3   Country_Region       4011 non-null   object \n",
      " 4   Last_Update          4011 non-null   object \n",
      " 5   Lat                  3922 non-null   float64\n",
      " 6   Long_                3922 non-null   float64\n",
      " 7   Confirmed            4011 non-null   int64  \n",
      " 8   Deaths               4011 non-null   int64  \n",
      " 9   Recovered            4011 non-null   int64  \n",
      " 10  Active               4011 non-null   int64  \n",
      " 11  Combined_Key         4011 non-null   object \n",
      " 12  Incident_Rate        3922 non-null   float64\n",
      " 13  Case_Fatality_Ratio  3963 non-null   float64\n",
      "dtypes: float64(5), int64(4), object(5)\n",
      "memory usage: 438.8+ KB\n"
     ]
    }
   ],
   "source": [
    "df.info()"
   ]
  },
  {
   "cell_type": "markdown",
   "id": "39cff57e",
   "metadata": {},
   "source": [
    "## Tổng Quan về Dữ Liệu"
   ]
  },
  {
   "cell_type": "code",
   "execution_count": 3,
   "id": "edf0e042",
   "metadata": {
    "scrolled": true
   },
   "outputs": [
    {
     "name": "stdout",
     "output_type": "stream",
     "text": [
      "Số lượng dòng và cột:  (4011, 14)\n",
      "Tổng số lượng dữ liệu bị thiếu:  1980\n",
      "Thông tin về kiểu dữ liệu của từng cột:\n",
      " FIPS                   float64\n",
      "Admin2                  object\n",
      "Province_State          object\n",
      "Country_Region          object\n",
      "Last_Update             object\n",
      "Lat                    float64\n",
      "Long_                  float64\n",
      "Confirmed                int64\n",
      "Deaths                   int64\n",
      "Recovered                int64\n",
      "Active                   int64\n",
      "Combined_Key            object\n",
      "Incident_Rate          float64\n",
      "Case_Fatality_Ratio    float64\n",
      "dtype: object\n"
     ]
    }
   ],
   "source": [
    "print(\"Số lượng dòng và cột: \", df.shape)\n",
    "print(\"Tổng số lượng dữ liệu bị thiếu: \", df.isnull().sum().sum())\n",
    "print(\"Thông tin về kiểu dữ liệu của từng cột:\\n\", df.dtypes)"
   ]
  },
  {
   "cell_type": "markdown",
   "id": "1520f8df",
   "metadata": {},
   "source": [
    "## Thống Kê Tổng Quan"
   ]
  },
  {
   "cell_type": "code",
   "execution_count": 4,
   "id": "38631ef7",
   "metadata": {},
   "outputs": [
    {
     "data": {
      "text/html": [
       "<div>\n",
       "<style scoped>\n",
       "    .dataframe tbody tr th:only-of-type {\n",
       "        vertical-align: middle;\n",
       "    }\n",
       "\n",
       "    .dataframe tbody tr th {\n",
       "        vertical-align: top;\n",
       "    }\n",
       "\n",
       "    .dataframe thead th {\n",
       "        text-align: right;\n",
       "    }\n",
       "</style>\n",
       "<table border=\"1\" class=\"dataframe\">\n",
       "  <thead>\n",
       "    <tr style=\"text-align: right;\">\n",
       "      <th></th>\n",
       "      <th>FIPS</th>\n",
       "      <th>Lat</th>\n",
       "      <th>Long_</th>\n",
       "      <th>Confirmed</th>\n",
       "      <th>Deaths</th>\n",
       "      <th>Recovered</th>\n",
       "      <th>Active</th>\n",
       "      <th>Incident_Rate</th>\n",
       "      <th>Case_Fatality_Ratio</th>\n",
       "    </tr>\n",
       "  </thead>\n",
       "  <tbody>\n",
       "    <tr>\n",
       "      <th>count</th>\n",
       "      <td>3265.000000</td>\n",
       "      <td>3922.000000</td>\n",
       "      <td>3922.000000</td>\n",
       "      <td>4.011000e+03</td>\n",
       "      <td>4011.000000</td>\n",
       "      <td>4.011000e+03</td>\n",
       "      <td>4.011000e+03</td>\n",
       "      <td>3922.000000</td>\n",
       "      <td>3963.000000</td>\n",
       "    </tr>\n",
       "    <tr>\n",
       "      <th>mean</th>\n",
       "      <td>32386.688208</td>\n",
       "      <td>35.768908</td>\n",
       "      <td>-71.113714</td>\n",
       "      <td>2.102613e+04</td>\n",
       "      <td>476.518823</td>\n",
       "      <td>1.180731e+04</td>\n",
       "      <td>9.259591e+03</td>\n",
       "      <td>5738.940929</td>\n",
       "      <td>2.228699</td>\n",
       "    </tr>\n",
       "    <tr>\n",
       "      <th>std</th>\n",
       "      <td>18017.294540</td>\n",
       "      <td>13.391261</td>\n",
       "      <td>55.220345</td>\n",
       "      <td>1.055172e+05</td>\n",
       "      <td>2833.090464</td>\n",
       "      <td>8.193885e+04</td>\n",
       "      <td>5.719777e+04</td>\n",
       "      <td>3227.374130</td>\n",
       "      <td>17.174874</td>\n",
       "    </tr>\n",
       "    <tr>\n",
       "      <th>min</th>\n",
       "      <td>66.000000</td>\n",
       "      <td>-71.949900</td>\n",
       "      <td>-175.198200</td>\n",
       "      <td>0.000000e+00</td>\n",
       "      <td>0.000000</td>\n",
       "      <td>0.000000e+00</td>\n",
       "      <td>0.000000e+00</td>\n",
       "      <td>0.000000</td>\n",
       "      <td>0.000000</td>\n",
       "    </tr>\n",
       "    <tr>\n",
       "      <th>25%</th>\n",
       "      <td>19049.000000</td>\n",
       "      <td>33.202974</td>\n",
       "      <td>-96.580090</td>\n",
       "      <td>7.010000e+02</td>\n",
       "      <td>9.000000</td>\n",
       "      <td>0.000000e+00</td>\n",
       "      <td>5.780000e+02</td>\n",
       "      <td>3536.967442</td>\n",
       "      <td>0.969239</td>\n",
       "    </tr>\n",
       "    <tr>\n",
       "      <th>50%</th>\n",
       "      <td>30067.000000</td>\n",
       "      <td>37.910342</td>\n",
       "      <td>-86.708116</td>\n",
       "      <td>1.968000e+03</td>\n",
       "      <td>31.000000</td>\n",
       "      <td>0.000000e+00</td>\n",
       "      <td>1.657000e+03</td>\n",
       "      <td>5840.344304</td>\n",
       "      <td>1.551567</td>\n",
       "    </tr>\n",
       "    <tr>\n",
       "      <th>75%</th>\n",
       "      <td>47039.000000</td>\n",
       "      <td>42.181730</td>\n",
       "      <td>-77.358102</td>\n",
       "      <td>7.693500e+03</td>\n",
       "      <td>112.000000</td>\n",
       "      <td>0.000000e+00</td>\n",
       "      <td>4.915500e+03</td>\n",
       "      <td>7752.568815</td>\n",
       "      <td>2.341350</td>\n",
       "    </tr>\n",
       "    <tr>\n",
       "      <th>max</th>\n",
       "      <td>99999.000000</td>\n",
       "      <td>71.706900</td>\n",
       "      <td>178.065000</td>\n",
       "      <td>2.636045e+06</td>\n",
       "      <td>81593.000000</td>\n",
       "      <td>2.114760e+06</td>\n",
       "      <td>2.400750e+06</td>\n",
       "      <td>27388.219766</td>\n",
       "      <td>1026.206897</td>\n",
       "    </tr>\n",
       "  </tbody>\n",
       "</table>\n",
       "</div>"
      ],
      "text/plain": [
       "               FIPS          Lat        Long_     Confirmed        Deaths  \\\n",
       "count   3265.000000  3922.000000  3922.000000  4.011000e+03   4011.000000   \n",
       "mean   32386.688208    35.768908   -71.113714  2.102613e+04    476.518823   \n",
       "std    18017.294540    13.391261    55.220345  1.055172e+05   2833.090464   \n",
       "min       66.000000   -71.949900  -175.198200  0.000000e+00      0.000000   \n",
       "25%    19049.000000    33.202974   -96.580090  7.010000e+02      9.000000   \n",
       "50%    30067.000000    37.910342   -86.708116  1.968000e+03     31.000000   \n",
       "75%    47039.000000    42.181730   -77.358102  7.693500e+03    112.000000   \n",
       "max    99999.000000    71.706900   178.065000  2.636045e+06  81593.000000   \n",
       "\n",
       "          Recovered        Active  Incident_Rate  Case_Fatality_Ratio  \n",
       "count  4.011000e+03  4.011000e+03    3922.000000          3963.000000  \n",
       "mean   1.180731e+04  9.259591e+03    5738.940929             2.228699  \n",
       "std    8.193885e+04  5.719777e+04    3227.374130            17.174874  \n",
       "min    0.000000e+00  0.000000e+00       0.000000             0.000000  \n",
       "25%    0.000000e+00  5.780000e+02    3536.967442             0.969239  \n",
       "50%    0.000000e+00  1.657000e+03    5840.344304             1.551567  \n",
       "75%    0.000000e+00  4.915500e+03    7752.568815             2.341350  \n",
       "max    2.114760e+06  2.400750e+06   27388.219766          1026.206897  "
      ]
     },
     "execution_count": 4,
     "metadata": {},
     "output_type": "execute_result"
    }
   ],
   "source": [
    "# Thống kê tổng quan\n",
    "summary_stats = df.describe()\n",
    "\n",
    "# Hiển thị\n",
    "summary_stats"
   ]
  },
  {
   "cell_type": "markdown",
   "id": "6f3d6e14",
   "metadata": {},
   "source": [
    "## Tiền xử lý dữ liệu"
   ]
  },
  {
   "cell_type": "markdown",
   "id": "93341851",
   "metadata": {},
   "source": [
    "### 1. Loại Bỏ Cột Không Cần Thiết"
   ]
  },
  {
   "cell_type": "code",
   "execution_count": 5,
   "id": "fcec911a",
   "metadata": {},
   "outputs": [],
   "source": [
    "df = df.drop('FIPS', axis=1)\n",
    "df = df.drop('Admin2', axis=1)\n",
    "df = df.drop('Province_State', axis=1)\n",
    "df = df.drop('Combined_Key', axis=1)"
   ]
  },
  {
   "cell_type": "markdown",
   "id": "f7185f2f",
   "metadata": {},
   "source": [
    "### 2. Xử Lý Dữ Liệu Thiếu"
   ]
  },
  {
   "cell_type": "code",
   "execution_count": 6,
   "id": "e05233c3",
   "metadata": {},
   "outputs": [],
   "source": [
    "df[\"Lat\"] = df[\"Lat\"].fillna(df[\"Lat\"].mean())\n",
    "df[\"Long_\"] = df[\"Long_\"].fillna(df[\"Long_\"].mean())\n",
    "df[\"Incident_Rate\"] = df[\"Incident_Rate\"].fillna(df[\"Incident_Rate\"].mean())\n",
    "df[\"Case_Fatality_Ratio\"] = df[\"Case_Fatality_Ratio\"].fillna(df[\"Case_Fatality_Ratio\"].mean())"
   ]
  },
  {
   "cell_type": "code",
   "execution_count": 7,
   "id": "543b2af5",
   "metadata": {},
   "outputs": [
    {
     "name": "stdout",
     "output_type": "stream",
     "text": [
      "<class 'pandas.core.frame.DataFrame'>\n",
      "RangeIndex: 4011 entries, 0 to 4010\n",
      "Data columns (total 10 columns):\n",
      " #   Column               Non-Null Count  Dtype  \n",
      "---  ------               --------------  -----  \n",
      " 0   Country_Region       4011 non-null   object \n",
      " 1   Last_Update          4011 non-null   object \n",
      " 2   Lat                  4011 non-null   float64\n",
      " 3   Long_                4011 non-null   float64\n",
      " 4   Confirmed            4011 non-null   int64  \n",
      " 5   Deaths               4011 non-null   int64  \n",
      " 6   Recovered            4011 non-null   int64  \n",
      " 7   Active               4011 non-null   int64  \n",
      " 8   Incident_Rate        4011 non-null   float64\n",
      " 9   Case_Fatality_Ratio  4011 non-null   float64\n",
      "dtypes: float64(4), int64(4), object(2)\n",
      "memory usage: 313.5+ KB\n"
     ]
    }
   ],
   "source": [
    "df.info()"
   ]
  },
  {
   "cell_type": "code",
   "execution_count": 8,
   "id": "06363063",
   "metadata": {},
   "outputs": [],
   "source": [
    "# Ghi DataFrame vào một tệp CSV mới\n",
    "df.to_csv('new_data.csv', index=False)"
   ]
  },
  {
   "cell_type": "markdown",
   "id": "baf204e3",
   "metadata": {},
   "source": [
    "## Các biểu đồ phân tích"
   ]
  },
  {
   "cell_type": "markdown",
   "id": "172ee0bf",
   "metadata": {},
   "source": [
    "<div class='tableauPlaceholder' id='viz1704035655903' style='position: relative'><noscript><a href='#'><img alt='Số ca tử vong theo quốc gia ' src='https:&#47;&#47;public.tableau.com&#47;static&#47;images&#47;Da&#47;Data_Covid_17040355393520&#47;Sheet1&#47;1_rss.png' style='border: none' /></a></noscript><object class='tableauViz'  style='display:none;'><param name='host_url' value='https%3A%2F%2Fpublic.tableau.com%2F' /> <param name='embed_code_version' value='3' /> <param name='site_root' value='' /><param name='name' value='Data_Covid_17040355393520&#47;Sheet1' /><param name='tabs' value='no' /><param name='toolbar' value='yes' /><param name='static_image' value='https:&#47;&#47;public.tableau.com&#47;static&#47;images&#47;Da&#47;Data_Covid_17040355393520&#47;Sheet1&#47;1.png' /> <param name='animate_transition' value='yes' /><param name='display_static_image' value='yes' /><param name='display_spinner' value='yes' /><param name='display_overlay' value='yes' /><param name='display_count' value='yes' /><param name='language' value='en-US' /><param name='filter' value='publish=yes' /></object></div>                <script type='text/javascript'>                    var divElement = document.getElementById('viz1704035655903');                    var vizElement = divElement.getElementsByTagName('object')[0];                    vizElement.style.width='100%';vizElement.style.height=(divElement.offsetWidth*0.75)+'px';                    var scriptElement = document.createElement('script');                    scriptElement.src = 'https://public.tableau.com/javascripts/api/viz_v1.js';                    vizElement.parentNode.insertBefore(scriptElement, vizElement);                </script>"
   ]
  },
  {
   "cell_type": "markdown",
   "id": "f15a05ab",
   "metadata": {},
   "source": [
    "https://public.tableau.com/views/Data_Covid_17040355393520/Sheet1?:language=en-US&:display_count=n&:origin=viz_share_link"
   ]
  },
  {
   "cell_type": "markdown",
   "id": "6434702a",
   "metadata": {},
   "source": [
    "<div class='tableauPlaceholder' id='viz1704036792636' style='position: relative'><noscript><a href='#'><img alt=' ' src='https:&#47;&#47;public.tableau.com&#47;static&#47;images&#47;Da&#47;Data_Covid_17040355393520&#47;Sheet2&#47;1_rss.png' style='border: none' /></a></noscript><object class='tableauViz'  style='display:none;'><param name='host_url' value='https%3A%2F%2Fpublic.tableau.com%2F' /> <param name='embed_code_version' value='3' /> <param name='site_root' value='' /><param name='name' value='Data_Covid_17040355393520&#47;Sheet2' /><param name='tabs' value='yes' /><param name='toolbar' value='yes' /><param name='static_image' value='https:&#47;&#47;public.tableau.com&#47;static&#47;images&#47;Da&#47;Data_Covid_17040355393520&#47;Sheet2&#47;1.png' /> <param name='animate_transition' value='yes' /><param name='display_static_image' value='yes' /><param name='display_spinner' value='yes' /><param name='display_overlay' value='yes' /><param name='display_count' value='yes' /><param name='language' value='en-US' /><param name='filter' value='publish=yes' /></object></div>                <script type='text/javascript'>                    var divElement = document.getElementById('viz1704036792636');                    var vizElement = divElement.getElementsByTagName('object')[0];                    vizElement.style.width='100%';vizElement.style.height=(divElement.offsetWidth*0.75)+'px';                    var scriptElement = document.createElement('script');                    scriptElement.src = 'https://public.tableau.com/javascripts/api/viz_v1.js';                    vizElement.parentNode.insertBefore(scriptElement, vizElement);                </script>"
   ]
  },
  {
   "cell_type": "markdown",
   "id": "278ee61a",
   "metadata": {},
   "source": [
    "https://public.tableau.com/views/Data_Covid_17040355393520/Sheet2?:language=en-US&:display_count=n&:origin=viz_share_link"
   ]
  },
  {
   "cell_type": "markdown",
   "id": "cbd5a221",
   "metadata": {},
   "source": [
    "<div class='tableauPlaceholder' id='viz1704036006925' style='position: relative'><noscript><a href='#'><img alt=' ' src='https:&#47;&#47;public.tableau.com&#47;static&#47;images&#47;Da&#47;Data_Covid_17040355393520&#47;Sheet3&#47;1_rss.png' style='border: none' /></a></noscript><object class='tableauViz'  style='display:none;'><param name='host_url' value='https%3A%2F%2Fpublic.tableau.com%2F' /> <param name='embed_code_version' value='3' /> <param name='site_root' value='' /><param name='name' value='Data_Covid_17040355393520&#47;Sheet3' /><param name='tabs' value='yes' /><param name='toolbar' value='yes' /><param name='static_image' value='https:&#47;&#47;public.tableau.com&#47;static&#47;images&#47;Da&#47;Data_Covid_17040355393520&#47;Sheet3&#47;1.png' /> <param name='animate_transition' value='yes' /><param name='display_static_image' value='yes' /><param name='display_spinner' value='yes' /><param name='display_overlay' value='yes' /><param name='display_count' value='yes' /><param name='language' value='en-US' /></object></div>                <script type='text/javascript'>                    var divElement = document.getElementById('viz1704036006925');                    var vizElement = divElement.getElementsByTagName('object')[0];                    vizElement.style.width='100%';vizElement.style.height=(divElement.offsetWidth*0.75)+'px';                    var scriptElement = document.createElement('script');                    scriptElement.src = 'https://public.tableau.com/javascripts/api/viz_v1.js';                    vizElement.parentNode.insertBefore(scriptElement, vizElement);                </script>"
   ]
  },
  {
   "cell_type": "markdown",
   "id": "c8bb6764",
   "metadata": {},
   "source": [
    "https://public.tableau.com/views/Data_Covid_17040355393520/Sheet3?:language=en-US&:display_count=n&:origin=viz_share_link"
   ]
  },
  {
   "cell_type": "markdown",
   "id": "fc22725d",
   "metadata": {},
   "source": [
    "<div class='tableauPlaceholder' id='viz1704036108469' style='position: relative'><noscript><a href='#'><img alt=' ' src='https:&#47;&#47;public.tableau.com&#47;static&#47;images&#47;Da&#47;Data_Covid_17040355393520&#47;Sheet4&#47;1_rss.png' style='border: none' /></a></noscript><object class='tableauViz'  style='display:none;'><param name='host_url' value='https%3A%2F%2Fpublic.tableau.com%2F' /> <param name='embed_code_version' value='3' /> <param name='site_root' value='' /><param name='name' value='Data_Covid_17040355393520&#47;Sheet4' /><param name='tabs' value='yes' /><param name='toolbar' value='yes' /><param name='static_image' value='https:&#47;&#47;public.tableau.com&#47;static&#47;images&#47;Da&#47;Data_Covid_17040355393520&#47;Sheet4&#47;1.png' /> <param name='animate_transition' value='yes' /><param name='display_static_image' value='yes' /><param name='display_spinner' value='yes' /><param name='display_overlay' value='yes' /><param name='display_count' value='yes' /><param name='language' value='en-US' /></object></div>                <script type='text/javascript'>                    var divElement = document.getElementById('viz1704036108469');                    var vizElement = divElement.getElementsByTagName('object')[0];                    vizElement.style.width='100%';vizElement.style.height=(divElement.offsetWidth*0.75)+'px';                    var scriptElement = document.createElement('script');                    scriptElement.src = 'https://public.tableau.com/javascripts/api/viz_v1.js';                    vizElement.parentNode.insertBefore(scriptElement, vizElement);                </script>"
   ]
  },
  {
   "cell_type": "markdown",
   "id": "7f23c3df",
   "metadata": {},
   "source": [
    "https://public.tableau.com/views/Data_Covid_17040355393520/Sheet4?:language=en-US&:display_count=n&:origin=viz_share_link"
   ]
  },
  {
   "cell_type": "markdown",
   "id": "a47f9818",
   "metadata": {},
   "source": [
    "<div class='tableauPlaceholder' id='viz1704036868466' style='position: relative'><noscript><a href='#'><img alt=' ' src='https:&#47;&#47;public.tableau.com&#47;static&#47;images&#47;Da&#47;Data_Covid_17040355393520&#47;Sheet5&#47;1_rss.png' style='border: none' /></a></noscript><object class='tableauViz'  style='display:none;'><param name='host_url' value='https%3A%2F%2Fpublic.tableau.com%2F' /> <param name='embed_code_version' value='3' /> <param name='site_root' value='' /><param name='name' value='Data_Covid_17040355393520&#47;Sheet5' /><param name='tabs' value='yes' /><param name='toolbar' value='yes' /><param name='static_image' value='https:&#47;&#47;public.tableau.com&#47;static&#47;images&#47;Da&#47;Data_Covid_17040355393520&#47;Sheet5&#47;1.png' /> <param name='animate_transition' value='yes' /><param name='display_static_image' value='yes' /><param name='display_spinner' value='yes' /><param name='display_overlay' value='yes' /><param name='display_count' value='yes' /><param name='language' value='en-US' /><param name='filter' value='publish=yes' /></object></div>                <script type='text/javascript'>                    var divElement = document.getElementById('viz1704036868466');                    var vizElement = divElement.getElementsByTagName('object')[0];                    vizElement.style.width='100%';vizElement.style.height=(divElement.offsetWidth*0.75)+'px';                    var scriptElement = document.createElement('script');                    scriptElement.src = 'https://public.tableau.com/javascripts/api/viz_v1.js';                    vizElement.parentNode.insertBefore(scriptElement, vizElement);                </script>"
   ]
  },
  {
   "cell_type": "markdown",
   "id": "1261eaa0",
   "metadata": {},
   "source": [
    "https://public.tableau.com/views/Data_Covid_17040355393520/Sheet5?:language=en-US&:display_count=n&:origin=viz_share_link"
   ]
  },
  {
   "cell_type": "markdown",
   "id": "b85d9c8a",
   "metadata": {},
   "source": [
    "<div class='tableauPlaceholder' id='viz1704036709261' style='position: relative'><noscript><a href='#'><img alt=' ' src='https:&#47;&#47;public.tableau.com&#47;static&#47;images&#47;Da&#47;Data_Covid_17040355393520&#47;Sheet6&#47;1_rss.png' style='border: none' /></a></noscript><object class='tableauViz'  style='display:none;'><param name='host_url' value='https%3A%2F%2Fpublic.tableau.com%2F' /> <param name='embed_code_version' value='3' /> <param name='site_root' value='' /><param name='name' value='Data_Covid_17040355393520&#47;Sheet6' /><param name='tabs' value='yes' /><param name='toolbar' value='yes' /><param name='static_image' value='https:&#47;&#47;public.tableau.com&#47;static&#47;images&#47;Da&#47;Data_Covid_17040355393520&#47;Sheet6&#47;1.png' /> <param name='animate_transition' value='yes' /><param name='display_static_image' value='yes' /><param name='display_spinner' value='yes' /><param name='display_overlay' value='yes' /><param name='display_count' value='yes' /><param name='language' value='en-US' /><param name='filter' value='publish=yes' /></object></div>                <script type='text/javascript'>                    var divElement = document.getElementById('viz1704036709261');                    var vizElement = divElement.getElementsByTagName('object')[0];                    vizElement.style.width='100%';vizElement.style.height=(divElement.offsetWidth*0.75)+'px';                    var scriptElement = document.createElement('script');                    scriptElement.src = 'https://public.tableau.com/javascripts/api/viz_v1.js';                    vizElement.parentNode.insertBefore(scriptElement, vizElement);                </script>"
   ]
  },
  {
   "cell_type": "markdown",
   "id": "a04eee90",
   "metadata": {},
   "source": [
    "https://public.tableau.com/views/Data_Covid_17040355393520/Sheet6?:language=en-US&:display_count=n&:origin=viz_share_link"
   ]
  },
  {
   "cell_type": "markdown",
   "id": "45d810be",
   "metadata": {},
   "source": [
    "<div class='tableauPlaceholder' id='viz1704037879885' style='position: relative'><noscript><a href='#'><img alt=' ' src='https:&#47;&#47;public.tableau.com&#47;static&#47;images&#47;Da&#47;Data_Covid_17040355393520&#47;Sheet7&#47;1_rss.png' style='border: none' /></a></noscript><object class='tableauViz'  style='display:none;'><param name='host_url' value='https%3A%2F%2Fpublic.tableau.com%2F' /> <param name='embed_code_version' value='3' /> <param name='site_root' value='' /><param name='name' value='Data_Covid_17040355393520&#47;Sheet7' /><param name='tabs' value='yes' /><param name='toolbar' value='yes' /><param name='static_image' value='https:&#47;&#47;public.tableau.com&#47;static&#47;images&#47;Da&#47;Data_Covid_17040355393520&#47;Sheet7&#47;1.png' /> <param name='animate_transition' value='yes' /><param name='display_static_image' value='yes' /><param name='display_spinner' value='yes' /><param name='display_overlay' value='yes' /><param name='display_count' value='yes' /><param name='language' value='en-US' /><param name='filter' value='publish=yes' /></object></div>                <script type='text/javascript'>                    var divElement = document.getElementById('viz1704037879885');                    var vizElement = divElement.getElementsByTagName('object')[0];                    vizElement.style.width='100%';vizElement.style.height=(divElement.offsetWidth*0.75)+'px';                    var scriptElement = document.createElement('script');                    scriptElement.src = 'https://public.tableau.com/javascripts/api/viz_v1.js';                    vizElement.parentNode.insertBefore(scriptElement, vizElement);                </script>"
   ]
  },
  {
   "cell_type": "markdown",
   "id": "767223a3",
   "metadata": {},
   "source": [
    "https://public.tableau.com/views/Data_Covid_17040355393520/Sheet7?:language=en-US&:display_count=n&:origin=viz_share_link"
   ]
  },
  {
   "cell_type": "markdown",
   "id": "382bb9af",
   "metadata": {},
   "source": [
    "## Đề Xuất Biện Pháp và Kết Luận"
   ]
  },
  {
   "cell_type": "code",
   "execution_count": 9,
   "id": "4a664054",
   "metadata": {},
   "outputs": [],
   "source": [
    "a = df.groupby(\"Country_Region\")[\"Confirmed\"].sum()"
   ]
  },
  {
   "cell_type": "code",
   "execution_count": 10,
   "id": "42129363",
   "metadata": {},
   "outputs": [
    {
     "name": "stdout",
     "output_type": "stream",
     "text": [
      "Quốc gia có số ca nhiễm cao nhất là  US  với số ca nhiễm là 20397401\n",
      "Quốc gia có số ca nhiễm thấp nhất là  Antarctica  với số ca nhiễm là 0\n"
     ]
    }
   ],
   "source": [
    "print(\"Quốc gia có số ca nhiễm cao nhất là \", a.idxmax() , \" với số ca nhiễm là\", a.max())\n",
    "print(\"Quốc gia có số ca nhiễm thấp nhất là \", a.idxmin() , \" với số ca nhiễm là\", a.min())"
   ]
  },
  {
   "cell_type": "code",
   "execution_count": 11,
   "id": "565b197f",
   "metadata": {},
   "outputs": [],
   "source": [
    "a = df.groupby(\"Last_Update\")[\"Confirmed\"].sum()"
   ]
  },
  {
   "cell_type": "code",
   "execution_count": 12,
   "id": "e79d5dfd",
   "metadata": {},
   "outputs": [
    {
     "name": "stdout",
     "output_type": "stream",
     "text": [
      "Ngày có số ca nhiễm cao nhất là  2021-01-02 05:22:33  với số ca nhiễm là 84332324\n",
      "Ngày có số ca nhiễm thấp nhất là  2020-08-07 22:34:20  với số ca nhiễm là 0\n"
     ]
    }
   ],
   "source": [
    "print(\"Ngày có số ca nhiễm cao nhất là \", a.idxmax() , \" với số ca nhiễm là\", a.max())\n",
    "print(\"Ngày có số ca nhiễm thấp nhất là \", a.idxmin() , \" với số ca nhiễm là\", a.min())"
   ]
  },
  {
   "cell_type": "code",
   "execution_count": 13,
   "id": "65f3a3d9",
   "metadata": {
    "scrolled": true
   },
   "outputs": [
    {
     "data": {
      "text/html": [
       "<div>\n",
       "<style scoped>\n",
       "    .dataframe tbody tr th:only-of-type {\n",
       "        vertical-align: middle;\n",
       "    }\n",
       "\n",
       "    .dataframe tbody tr th {\n",
       "        vertical-align: top;\n",
       "    }\n",
       "\n",
       "    .dataframe thead th {\n",
       "        text-align: right;\n",
       "    }\n",
       "</style>\n",
       "<table border=\"1\" class=\"dataframe\">\n",
       "  <thead>\n",
       "    <tr style=\"text-align: right;\">\n",
       "      <th></th>\n",
       "      <th>Country_Region</th>\n",
       "      <th>Last_Update</th>\n",
       "      <th>Lat</th>\n",
       "      <th>Long_</th>\n",
       "      <th>Confirmed</th>\n",
       "      <th>Deaths</th>\n",
       "      <th>Recovered</th>\n",
       "      <th>Active</th>\n",
       "      <th>Incident_Rate</th>\n",
       "      <th>Case_Fatality_Ratio</th>\n",
       "    </tr>\n",
       "  </thead>\n",
       "  <tbody>\n",
       "    <tr>\n",
       "      <th>0</th>\n",
       "      <td>Afghanistan</td>\n",
       "      <td>2021-01-02 05:22:33</td>\n",
       "      <td>33.93911</td>\n",
       "      <td>67.709953</td>\n",
       "      <td>52513</td>\n",
       "      <td>2201</td>\n",
       "      <td>41727</td>\n",
       "      <td>8585</td>\n",
       "      <td>134.896578</td>\n",
       "      <td>4.191343</td>\n",
       "    </tr>\n",
       "    <tr>\n",
       "      <th>1</th>\n",
       "      <td>Albania</td>\n",
       "      <td>2021-01-02 05:22:33</td>\n",
       "      <td>41.15330</td>\n",
       "      <td>20.168300</td>\n",
       "      <td>58316</td>\n",
       "      <td>1181</td>\n",
       "      <td>33634</td>\n",
       "      <td>23501</td>\n",
       "      <td>2026.409062</td>\n",
       "      <td>2.025173</td>\n",
       "    </tr>\n",
       "    <tr>\n",
       "      <th>2</th>\n",
       "      <td>Algeria</td>\n",
       "      <td>2021-01-02 05:22:33</td>\n",
       "      <td>28.03390</td>\n",
       "      <td>1.659600</td>\n",
       "      <td>99897</td>\n",
       "      <td>2762</td>\n",
       "      <td>67395</td>\n",
       "      <td>29740</td>\n",
       "      <td>227.809861</td>\n",
       "      <td>2.764848</td>\n",
       "    </tr>\n",
       "    <tr>\n",
       "      <th>3</th>\n",
       "      <td>Andorra</td>\n",
       "      <td>2021-01-02 05:22:33</td>\n",
       "      <td>42.50630</td>\n",
       "      <td>1.521800</td>\n",
       "      <td>8117</td>\n",
       "      <td>84</td>\n",
       "      <td>7463</td>\n",
       "      <td>570</td>\n",
       "      <td>10505.403482</td>\n",
       "      <td>1.034865</td>\n",
       "    </tr>\n",
       "    <tr>\n",
       "      <th>4</th>\n",
       "      <td>Angola</td>\n",
       "      <td>2021-01-02 05:22:33</td>\n",
       "      <td>-11.20270</td>\n",
       "      <td>17.873900</td>\n",
       "      <td>17568</td>\n",
       "      <td>405</td>\n",
       "      <td>11146</td>\n",
       "      <td>6017</td>\n",
       "      <td>53.452981</td>\n",
       "      <td>2.305328</td>\n",
       "    </tr>\n",
       "  </tbody>\n",
       "</table>\n",
       "</div>"
      ],
      "text/plain": [
       "  Country_Region          Last_Update       Lat      Long_  Confirmed  Deaths  \\\n",
       "0    Afghanistan  2021-01-02 05:22:33  33.93911  67.709953      52513    2201   \n",
       "1        Albania  2021-01-02 05:22:33  41.15330  20.168300      58316    1181   \n",
       "2        Algeria  2021-01-02 05:22:33  28.03390   1.659600      99897    2762   \n",
       "3        Andorra  2021-01-02 05:22:33  42.50630   1.521800       8117      84   \n",
       "4         Angola  2021-01-02 05:22:33 -11.20270  17.873900      17568     405   \n",
       "\n",
       "   Recovered  Active  Incident_Rate  Case_Fatality_Ratio  \n",
       "0      41727    8585     134.896578             4.191343  \n",
       "1      33634   23501    2026.409062             2.025173  \n",
       "2      67395   29740     227.809861             2.764848  \n",
       "3       7463     570   10505.403482             1.034865  \n",
       "4      11146    6017      53.452981             2.305328  "
      ]
     },
     "execution_count": 13,
     "metadata": {},
     "output_type": "execute_result"
    }
   ],
   "source": [
    "df.head()"
   ]
  },
  {
   "cell_type": "markdown",
   "id": "d1a4176f",
   "metadata": {},
   "source": [
    "### Các biện pháp\n",
    "##### 1. Tăng Cường Biện Pháp Phòng Ngừa và Giáo Dục Cộng Đồng:\n",
    "Tăng cường chiến dịch giáo dục cộng đồng về ý thức phòng ngừa, giữ khoảng cách xã hội, đeo khẩu trang, và rửa tay đều đặn.\n",
    "Kích thích người dân thực hiện các biện pháp phòng ngừa và giữ vệ sinh cá nhân.\n",
    "##### 2. Tăng Cường Năng Lực Kiểm Soát Dịch:\n",
    "Tăng cường khả năng kiểm soát và theo dõi sự lây lan của virus thông qua việc mở rộng khả năng xét nghiệm và theo dõi tiếp xúc.\n",
    "Đảm bảo sự hợp tác giữa các cấp chính phủ, tổ chức y tế, và cộng đồng để triển khai hiệu quả các biện pháp kiểm soát.\n",
    "##### 3. Tăng Cường Hệ Thống Y Tế:\n",
    "Tăng cường khả năng chăm sóc y tế bằng cách tăng cường số lượng giường bệnh và trang thiết bị y tế cần thiết.\n",
    "Đảm bảo sự chuẩn bị cho việc xử lý các tình huống khẩn cấp và giảm áp lực lên hệ thống y tế.\n",
    "##### 4. Hỗ Trợ Tài Chính và Xã Hội:\n",
    "Cung cấp hỗ trợ tài chính cho những người bị ảnh hưởng, đặc biệt là những người mất việc làm do dịch bệnh.\n",
    "Xem xét các chính sách hỗ trợ xã hội để giúp những gia đình và cộng đồng gặp khó khăn.\n",
    "##### 5. Quản Lý Nghiêm Ngặt Các Khu Vực Nóng:\n",
    "Tăng cường quản lý và giám sát chặt chẽ trong các khu vực có số ca nhiễm cao.\n",
    "Cân nhắc áp dụng các biện pháp hạn chế di chuyển và tụ tập trong các khu vực có nguy cơ lây lan cao.\n",
    "##### 6. Hỗ Trợ Nghiên Cứu và Phát Triển Vắc Xin:\n",
    "Hỗ trợ và đầu tư vào nghiên cứu và phát triển vắc xin để có giải pháp bền vững và hiệu quả.\n",
    "Hợp tác quốc tế để chia sẻ thông tin và kinh nghiệm, cũng như để đảm bảo tiếp cận công bằng đối với vắc xin."
   ]
  }
 ],
 "metadata": {
  "kernelspec": {
   "display_name": "Python 3 (ipykernel)",
   "language": "python",
   "name": "python3"
  },
  "language_info": {
   "codemirror_mode": {
    "name": "ipython",
    "version": 3
   },
   "file_extension": ".py",
   "mimetype": "text/x-python",
   "name": "python",
   "nbconvert_exporter": "python",
   "pygments_lexer": "ipython3",
   "version": "3.11.5"
  }
 },
 "nbformat": 4,
 "nbformat_minor": 5
}
